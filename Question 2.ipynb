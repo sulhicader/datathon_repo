{
 "cells": [
  {
   "cell_type": "code",
   "execution_count": 2,
   "metadata": {},
   "outputs": [
    {
     "name": "stderr",
     "output_type": "stream",
     "text": [
      "Warning message:\n",
      "“replacing previous import by ‘rlang:::=’ when loading ‘dplyr’”Warning message:\n",
      "“replacing previous import by ‘rlang::.data’ when loading ‘dplyr’”Warning message:\n",
      "“replacing previous import by ‘rlang::as_label’ when loading ‘dplyr’”Warning message:\n",
      "“replacing previous import by ‘rlang::as_name’ when loading ‘dplyr’”Warning message:\n",
      "“replacing previous import by ‘rlang::dots_n’ when loading ‘dplyr’”Warning message:\n",
      "“replacing previous import by ‘rlang::enquo’ when loading ‘dplyr’”Warning message:\n",
      "“replacing previous import by ‘rlang::enquos’ when loading ‘dplyr’”Warning message:\n",
      "“replacing previous import by ‘rlang::expr’ when loading ‘dplyr’”Warning message:\n",
      "“replacing previous import by ‘rlang::sym’ when loading ‘dplyr’”Warning message:\n",
      "“replacing previous import by ‘rlang::syms’ when loading ‘dplyr’”\n",
      "Attaching package: ‘dplyr’\n",
      "\n",
      "The following objects are masked from ‘package:stats’:\n",
      "\n",
      "    filter, lag\n",
      "\n",
      "The following objects are masked from ‘package:base’:\n",
      "\n",
      "    intersect, setdiff, setequal, union\n",
      "\n"
     ]
    }
   ],
   "source": [
    "library(dplyr)\n",
    "library(ggplot2)\n",
    "library(tidyr)"
   ]
  },
  {
   "cell_type": "markdown",
   "metadata": {},
   "source": [
    "# Read the tsv file and assign it to a variable"
   ]
  },
  {
   "cell_type": "code",
   "execution_count": 3,
   "metadata": {},
   "outputs": [],
   "source": [
    "twitterdata <- read.table(\"sample_twitter_personal_data.tsv\",header = TRUE)"
   ]
  },
  {
   "cell_type": "code",
   "execution_count": 8,
   "metadata": {},
   "outputs": [
    {
     "data": {
      "text/html": [
       "<table>\n",
       "<caption>A data.frame: 6 × 14</caption>\n",
       "<thead>\n",
       "\t<tr><th scope=col>twitter_id</th><th scope=col>age</th><th scope=col>dob_day</th><th scope=col>dob_year</th><th scope=col>dob_month</th><th scope=col>gender</th><th scope=col>followers_count</th><th scope=col>initiated_to_follow</th><th scope=col>heart</th><th scope=col>heart_received</th><th scope=col>mobile_app_heart</th><th scope=col>mobile_app_heart_received</th><th scope=col>web_heart</th><th scope=col>web_heart_received</th></tr>\n",
       "\t<tr><th scope=col>&lt;int&gt;</th><th scope=col>&lt;int&gt;</th><th scope=col>&lt;int&gt;</th><th scope=col>&lt;int&gt;</th><th scope=col>&lt;int&gt;</th><th scope=col>&lt;fct&gt;</th><th scope=col>&lt;int&gt;</th><th scope=col>&lt;int&gt;</th><th scope=col>&lt;int&gt;</th><th scope=col>&lt;int&gt;</th><th scope=col>&lt;int&gt;</th><th scope=col>&lt;int&gt;</th><th scope=col>&lt;int&gt;</th><th scope=col>&lt;int&gt;</th></tr>\n",
       "</thead>\n",
       "<tbody>\n",
       "\t<tr><td>2094382</td><td>14</td><td>19</td><td>1999</td><td>11</td><td>male  </td><td>0</td><td>0</td><td>0</td><td>0</td><td>0</td><td>0</td><td>0</td><td>0</td></tr>\n",
       "\t<tr><td>1192601</td><td>14</td><td> 2</td><td>1999</td><td>11</td><td>female</td><td>0</td><td>0</td><td>0</td><td>0</td><td>0</td><td>0</td><td>0</td><td>0</td></tr>\n",
       "\t<tr><td>2083884</td><td>14</td><td>16</td><td>1999</td><td>11</td><td>male  </td><td>0</td><td>0</td><td>0</td><td>0</td><td>0</td><td>0</td><td>0</td><td>0</td></tr>\n",
       "\t<tr><td>1203168</td><td>14</td><td>25</td><td>1999</td><td>12</td><td>female</td><td>0</td><td>0</td><td>0</td><td>0</td><td>0</td><td>0</td><td>0</td><td>0</td></tr>\n",
       "\t<tr><td>1733186</td><td>14</td><td> 4</td><td>1999</td><td>12</td><td>male  </td><td>0</td><td>0</td><td>0</td><td>0</td><td>0</td><td>0</td><td>0</td><td>0</td></tr>\n",
       "\t<tr><td>1524765</td><td>14</td><td> 1</td><td>1999</td><td>12</td><td>male  </td><td>0</td><td>0</td><td>0</td><td>0</td><td>0</td><td>0</td><td>0</td><td>0</td></tr>\n",
       "</tbody>\n",
       "</table>\n"
      ],
      "text/latex": [
       "A data.frame: 6 × 14\n",
       "\\begin{tabular}{r|llllllllllllll}\n",
       " twitter\\_id & age & dob\\_day & dob\\_year & dob\\_month & gender & followers\\_count & initiated\\_to\\_follow & heart & heart\\_received & mobile\\_app\\_heart & mobile\\_app\\_heart\\_received & web\\_heart & web\\_heart\\_received\\\\\n",
       " <int> & <int> & <int> & <int> & <int> & <fct> & <int> & <int> & <int> & <int> & <int> & <int> & <int> & <int>\\\\\n",
       "\\hline\n",
       "\t 2094382 & 14 & 19 & 1999 & 11 & male   & 0 & 0 & 0 & 0 & 0 & 0 & 0 & 0\\\\\n",
       "\t 1192601 & 14 &  2 & 1999 & 11 & female & 0 & 0 & 0 & 0 & 0 & 0 & 0 & 0\\\\\n",
       "\t 2083884 & 14 & 16 & 1999 & 11 & male   & 0 & 0 & 0 & 0 & 0 & 0 & 0 & 0\\\\\n",
       "\t 1203168 & 14 & 25 & 1999 & 12 & female & 0 & 0 & 0 & 0 & 0 & 0 & 0 & 0\\\\\n",
       "\t 1733186 & 14 &  4 & 1999 & 12 & male   & 0 & 0 & 0 & 0 & 0 & 0 & 0 & 0\\\\\n",
       "\t 1524765 & 14 &  1 & 1999 & 12 & male   & 0 & 0 & 0 & 0 & 0 & 0 & 0 & 0\\\\\n",
       "\\end{tabular}\n"
      ],
      "text/markdown": [
       "\n",
       "A data.frame: 6 × 14\n",
       "\n",
       "| twitter_id &lt;int&gt; | age &lt;int&gt; | dob_day &lt;int&gt; | dob_year &lt;int&gt; | dob_month &lt;int&gt; | gender &lt;fct&gt; | followers_count &lt;int&gt; | initiated_to_follow &lt;int&gt; | heart &lt;int&gt; | heart_received &lt;int&gt; | mobile_app_heart &lt;int&gt; | mobile_app_heart_received &lt;int&gt; | web_heart &lt;int&gt; | web_heart_received &lt;int&gt; |\n",
       "|---|---|---|---|---|---|---|---|---|---|---|---|---|---|\n",
       "| 2094382 | 14 | 19 | 1999 | 11 | male   | 0 | 0 | 0 | 0 | 0 | 0 | 0 | 0 |\n",
       "| 1192601 | 14 |  2 | 1999 | 11 | female | 0 | 0 | 0 | 0 | 0 | 0 | 0 | 0 |\n",
       "| 2083884 | 14 | 16 | 1999 | 11 | male   | 0 | 0 | 0 | 0 | 0 | 0 | 0 | 0 |\n",
       "| 1203168 | 14 | 25 | 1999 | 12 | female | 0 | 0 | 0 | 0 | 0 | 0 | 0 | 0 |\n",
       "| 1733186 | 14 |  4 | 1999 | 12 | male   | 0 | 0 | 0 | 0 | 0 | 0 | 0 | 0 |\n",
       "| 1524765 | 14 |  1 | 1999 | 12 | male   | 0 | 0 | 0 | 0 | 0 | 0 | 0 | 0 |\n",
       "\n"
      ],
      "text/plain": [
       "  twitter_id age dob_day dob_year dob_month gender followers_count\n",
       "1 2094382    14  19      1999     11        male   0              \n",
       "2 1192601    14   2      1999     11        female 0              \n",
       "3 2083884    14  16      1999     11        male   0              \n",
       "4 1203168    14  25      1999     12        female 0              \n",
       "5 1733186    14   4      1999     12        male   0              \n",
       "6 1524765    14   1      1999     12        male   0              \n",
       "  initiated_to_follow heart heart_received mobile_app_heart\n",
       "1 0                   0     0              0               \n",
       "2 0                   0     0              0               \n",
       "3 0                   0     0              0               \n",
       "4 0                   0     0              0               \n",
       "5 0                   0     0              0               \n",
       "6 0                   0     0              0               \n",
       "  mobile_app_heart_received web_heart web_heart_received\n",
       "1 0                         0         0                 \n",
       "2 0                         0         0                 \n",
       "3 0                         0         0                 \n",
       "4 0                         0         0                 \n",
       "5 0                         0         0                 \n",
       "6 0                         0         0                 "
      ]
     },
     "metadata": {},
     "output_type": "display_data"
    }
   ],
   "source": [
    "head(twitterdata)"
   ]
  },
  {
   "cell_type": "markdown",
   "metadata": {},
   "source": [
    "# Q1. List all the headers in the dataset."
   ]
  },
  {
   "cell_type": "code",
   "execution_count": 14,
   "metadata": {},
   "outputs": [
    {
     "data": {
      "text/html": [
       "<table>\n",
       "<caption>A matrix: 14 × 1 of type chr</caption>\n",
       "<tbody>\n",
       "\t<tr><td>twitter_id               </td></tr>\n",
       "\t<tr><td>age                      </td></tr>\n",
       "\t<tr><td>dob_day                  </td></tr>\n",
       "\t<tr><td>dob_year                 </td></tr>\n",
       "\t<tr><td>dob_month                </td></tr>\n",
       "\t<tr><td>gender                   </td></tr>\n",
       "\t<tr><td>followers_count          </td></tr>\n",
       "\t<tr><td>initiated_to_follow      </td></tr>\n",
       "\t<tr><td>heart                    </td></tr>\n",
       "\t<tr><td>heart_received           </td></tr>\n",
       "\t<tr><td>mobile_app_heart         </td></tr>\n",
       "\t<tr><td>mobile_app_heart_received</td></tr>\n",
       "\t<tr><td>web_heart                </td></tr>\n",
       "\t<tr><td>web_heart_received       </td></tr>\n",
       "</tbody>\n",
       "</table>\n"
      ],
      "text/latex": [
       "A matrix: 14 × 1 of type chr\n",
       "\\begin{tabular}{l}\n",
       "\t twitter\\_id               \\\\\n",
       "\t age                      \\\\\n",
       "\t dob\\_day                  \\\\\n",
       "\t dob\\_year                 \\\\\n",
       "\t dob\\_month                \\\\\n",
       "\t gender                   \\\\\n",
       "\t followers\\_count          \\\\\n",
       "\t initiated\\_to\\_follow      \\\\\n",
       "\t heart                    \\\\\n",
       "\t heart\\_received           \\\\\n",
       "\t mobile\\_app\\_heart         \\\\\n",
       "\t mobile\\_app\\_heart\\_received\\\\\n",
       "\t web\\_heart                \\\\\n",
       "\t web\\_heart\\_received       \\\\\n",
       "\\end{tabular}\n"
      ],
      "text/markdown": [
       "\n",
       "A matrix: 14 × 1 of type chr\n",
       "\n",
       "| twitter_id                |\n",
       "| age                       |\n",
       "| dob_day                   |\n",
       "| dob_year                  |\n",
       "| dob_month                 |\n",
       "| gender                    |\n",
       "| followers_count           |\n",
       "| initiated_to_follow       |\n",
       "| heart                     |\n",
       "| heart_received            |\n",
       "| mobile_app_heart          |\n",
       "| mobile_app_heart_received |\n",
       "| web_heart                 |\n",
       "| web_heart_received        |\n",
       "\n"
      ],
      "text/plain": [
       "      [,1]                     \n",
       " [1,] twitter_id               \n",
       " [2,] age                      \n",
       " [3,] dob_day                  \n",
       " [4,] dob_year                 \n",
       " [5,] dob_month                \n",
       " [6,] gender                   \n",
       " [7,] followers_count          \n",
       " [8,] initiated_to_follow      \n",
       " [9,] heart                    \n",
       "[10,] heart_received           \n",
       "[11,] mobile_app_heart         \n",
       "[12,] mobile_app_heart_received\n",
       "[13,] web_heart                \n",
       "[14,] web_heart_received       "
      ]
     },
     "metadata": {},
     "output_type": "display_data"
    }
   ],
   "source": [
    "headers <- matrix(colnames(twitterdata))\n",
    "headers"
   ]
  },
  {
   "cell_type": "markdown",
   "metadata": {},
   "source": [
    "# Q2. Order (ascending) the headers and assign numbers for the ordered headers."
   ]
  },
  {
   "cell_type": "code",
   "execution_count": 23,
   "metadata": {},
   "outputs": [
    {
     "data": {
      "text/html": [
       "<table>\n",
       "<caption>A data.frame: 14 × 2</caption>\n",
       "<thead>\n",
       "\t<tr><th scope=col>index</th><th scope=col>ordered_headers</th></tr>\n",
       "\t<tr><th scope=col>&lt;int&gt;</th><th scope=col>&lt;fct&gt;</th></tr>\n",
       "</thead>\n",
       "<tbody>\n",
       "\t<tr><td> 1</td><td>age                      </td></tr>\n",
       "\t<tr><td> 2</td><td>dob_day                  </td></tr>\n",
       "\t<tr><td> 3</td><td>dob_month                </td></tr>\n",
       "\t<tr><td> 4</td><td>dob_year                 </td></tr>\n",
       "\t<tr><td> 5</td><td>followers_count          </td></tr>\n",
       "\t<tr><td> 6</td><td>gender                   </td></tr>\n",
       "\t<tr><td> 7</td><td>heart                    </td></tr>\n",
       "\t<tr><td> 8</td><td>heart_received           </td></tr>\n",
       "\t<tr><td> 9</td><td>initiated_to_follow      </td></tr>\n",
       "\t<tr><td>10</td><td>mobile_app_heart         </td></tr>\n",
       "\t<tr><td>11</td><td>mobile_app_heart_received</td></tr>\n",
       "\t<tr><td>12</td><td>twitter_id               </td></tr>\n",
       "\t<tr><td>13</td><td>web_heart                </td></tr>\n",
       "\t<tr><td>14</td><td>web_heart_received       </td></tr>\n",
       "</tbody>\n",
       "</table>\n"
      ],
      "text/latex": [
       "A data.frame: 14 × 2\n",
       "\\begin{tabular}{r|ll}\n",
       " index & ordered\\_headers\\\\\n",
       " <int> & <fct>\\\\\n",
       "\\hline\n",
       "\t  1 & age                      \\\\\n",
       "\t  2 & dob\\_day                  \\\\\n",
       "\t  3 & dob\\_month                \\\\\n",
       "\t  4 & dob\\_year                 \\\\\n",
       "\t  5 & followers\\_count          \\\\\n",
       "\t  6 & gender                   \\\\\n",
       "\t  7 & heart                    \\\\\n",
       "\t  8 & heart\\_received           \\\\\n",
       "\t  9 & initiated\\_to\\_follow      \\\\\n",
       "\t 10 & mobile\\_app\\_heart         \\\\\n",
       "\t 11 & mobile\\_app\\_heart\\_received\\\\\n",
       "\t 12 & twitter\\_id               \\\\\n",
       "\t 13 & web\\_heart                \\\\\n",
       "\t 14 & web\\_heart\\_received       \\\\\n",
       "\\end{tabular}\n"
      ],
      "text/markdown": [
       "\n",
       "A data.frame: 14 × 2\n",
       "\n",
       "| index &lt;int&gt; | ordered_headers &lt;fct&gt; |\n",
       "|---|---|\n",
       "|  1 | age                       |\n",
       "|  2 | dob_day                   |\n",
       "|  3 | dob_month                 |\n",
       "|  4 | dob_year                  |\n",
       "|  5 | followers_count           |\n",
       "|  6 | gender                    |\n",
       "|  7 | heart                     |\n",
       "|  8 | heart_received            |\n",
       "|  9 | initiated_to_follow       |\n",
       "| 10 | mobile_app_heart          |\n",
       "| 11 | mobile_app_heart_received |\n",
       "| 12 | twitter_id                |\n",
       "| 13 | web_heart                 |\n",
       "| 14 | web_heart_received        |\n",
       "\n"
      ],
      "text/plain": [
       "   index ordered_headers          \n",
       "1   1    age                      \n",
       "2   2    dob_day                  \n",
       "3   3    dob_month                \n",
       "4   4    dob_year                 \n",
       "5   5    followers_count          \n",
       "6   6    gender                   \n",
       "7   7    heart                    \n",
       "8   8    heart_received           \n",
       "9   9    initiated_to_follow      \n",
       "10 10    mobile_app_heart         \n",
       "11 11    mobile_app_heart_received\n",
       "12 12    twitter_id               \n",
       "13 13    web_heart                \n",
       "14 14    web_heart_received       "
      ]
     },
     "metadata": {},
     "output_type": "display_data"
    }
   ],
   "source": [
    "ordered_headers <- matrix(sort(headers , decreasing=FALSE))\n",
    "index <- seq(1,length(ordered_headers))\n",
    "data.frame( index , ordered_headers )"
   ]
  },
  {
   "cell_type": "markdown",
   "metadata": {},
   "source": [
    "# Q3. List all Twitter users whose \"followers_count\" is greater (>) than 100."
   ]
  },
  {
   "cell_type": "code",
   "execution_count": 28,
   "metadata": {},
   "outputs": [
    {
     "data": {
      "text/html": [
       "<table>\n",
       "<caption>A data.frame: 6 × 14</caption>\n",
       "<thead>\n",
       "\t<tr><th scope=col>twitter_id</th><th scope=col>age</th><th scope=col>dob_day</th><th scope=col>dob_year</th><th scope=col>dob_month</th><th scope=col>gender</th><th scope=col>followers_count</th><th scope=col>initiated_to_follow</th><th scope=col>heart</th><th scope=col>heart_received</th><th scope=col>mobile_app_heart</th><th scope=col>mobile_app_heart_received</th><th scope=col>web_heart</th><th scope=col>web_heart_received</th></tr>\n",
       "\t<tr><th scope=col>&lt;int&gt;</th><th scope=col>&lt;int&gt;</th><th scope=col>&lt;int&gt;</th><th scope=col>&lt;int&gt;</th><th scope=col>&lt;int&gt;</th><th scope=col>&lt;fct&gt;</th><th scope=col>&lt;int&gt;</th><th scope=col>&lt;int&gt;</th><th scope=col>&lt;int&gt;</th><th scope=col>&lt;int&gt;</th><th scope=col>&lt;int&gt;</th><th scope=col>&lt;int&gt;</th><th scope=col>&lt;int&gt;</th><th scope=col>&lt;int&gt;</th></tr>\n",
       "</thead>\n",
       "<tbody>\n",
       "\t<tr><td>1154612</td><td>14</td><td>20</td><td>1999</td><td>11</td><td>female</td><td>1094</td><td> 720</td><td>0</td><td> 0</td><td>0</td><td> 0</td><td>0</td><td>0</td></tr>\n",
       "\t<tr><td>1584664</td><td>14</td><td>30</td><td>1999</td><td> 5</td><td>male  </td><td>1108</td><td> 752</td><td>0</td><td> 2</td><td>0</td><td> 2</td><td>0</td><td>0</td></tr>\n",
       "\t<tr><td>1302793</td><td>14</td><td> 1</td><td>1999</td><td>10</td><td>male  </td><td>1073</td><td> 599</td><td>0</td><td> 0</td><td>0</td><td> 0</td><td>0</td><td>0</td></tr>\n",
       "\t<tr><td>1395711</td><td>16</td><td> 4</td><td>1997</td><td>12</td><td>male  </td><td>1185</td><td> 886</td><td>0</td><td>18</td><td>0</td><td>11</td><td>0</td><td>7</td></tr>\n",
       "\t<tr><td>1926785</td><td>15</td><td>31</td><td>1998</td><td> 5</td><td>female</td><td>1174</td><td>1061</td><td>0</td><td> 8</td><td>0</td><td> 6</td><td>0</td><td>2</td></tr>\n",
       "\t<tr><td>1346281</td><td>15</td><td> 6</td><td>1998</td><td>10</td><td>male  </td><td>1001</td><td> 745</td><td>0</td><td> 2</td><td>0</td><td> 1</td><td>0</td><td>1</td></tr>\n",
       "</tbody>\n",
       "</table>\n"
      ],
      "text/latex": [
       "A data.frame: 6 × 14\n",
       "\\begin{tabular}{r|llllllllllllll}\n",
       " twitter\\_id & age & dob\\_day & dob\\_year & dob\\_month & gender & followers\\_count & initiated\\_to\\_follow & heart & heart\\_received & mobile\\_app\\_heart & mobile\\_app\\_heart\\_received & web\\_heart & web\\_heart\\_received\\\\\n",
       " <int> & <int> & <int> & <int> & <int> & <fct> & <int> & <int> & <int> & <int> & <int> & <int> & <int> & <int>\\\\\n",
       "\\hline\n",
       "\t 1154612 & 14 & 20 & 1999 & 11 & female & 1094 &  720 & 0 &  0 & 0 &  0 & 0 & 0\\\\\n",
       "\t 1584664 & 14 & 30 & 1999 &  5 & male   & 1108 &  752 & 0 &  2 & 0 &  2 & 0 & 0\\\\\n",
       "\t 1302793 & 14 &  1 & 1999 & 10 & male   & 1073 &  599 & 0 &  0 & 0 &  0 & 0 & 0\\\\\n",
       "\t 1395711 & 16 &  4 & 1997 & 12 & male   & 1185 &  886 & 0 & 18 & 0 & 11 & 0 & 7\\\\\n",
       "\t 1926785 & 15 & 31 & 1998 &  5 & female & 1174 & 1061 & 0 &  8 & 0 &  6 & 0 & 2\\\\\n",
       "\t 1346281 & 15 &  6 & 1998 & 10 & male   & 1001 &  745 & 0 &  2 & 0 &  1 & 0 & 1\\\\\n",
       "\\end{tabular}\n"
      ],
      "text/markdown": [
       "\n",
       "A data.frame: 6 × 14\n",
       "\n",
       "| twitter_id &lt;int&gt; | age &lt;int&gt; | dob_day &lt;int&gt; | dob_year &lt;int&gt; | dob_month &lt;int&gt; | gender &lt;fct&gt; | followers_count &lt;int&gt; | initiated_to_follow &lt;int&gt; | heart &lt;int&gt; | heart_received &lt;int&gt; | mobile_app_heart &lt;int&gt; | mobile_app_heart_received &lt;int&gt; | web_heart &lt;int&gt; | web_heart_received &lt;int&gt; |\n",
       "|---|---|---|---|---|---|---|---|---|---|---|---|---|---|\n",
       "| 1154612 | 14 | 20 | 1999 | 11 | female | 1094 |  720 | 0 |  0 | 0 |  0 | 0 | 0 |\n",
       "| 1584664 | 14 | 30 | 1999 |  5 | male   | 1108 |  752 | 0 |  2 | 0 |  2 | 0 | 0 |\n",
       "| 1302793 | 14 |  1 | 1999 | 10 | male   | 1073 |  599 | 0 |  0 | 0 |  0 | 0 | 0 |\n",
       "| 1395711 | 16 |  4 | 1997 | 12 | male   | 1185 |  886 | 0 | 18 | 0 | 11 | 0 | 7 |\n",
       "| 1926785 | 15 | 31 | 1998 |  5 | female | 1174 | 1061 | 0 |  8 | 0 |  6 | 0 | 2 |\n",
       "| 1346281 | 15 |  6 | 1998 | 10 | male   | 1001 |  745 | 0 |  2 | 0 |  1 | 0 | 1 |\n",
       "\n"
      ],
      "text/plain": [
       "  twitter_id age dob_day dob_year dob_month gender followers_count\n",
       "1 1154612    14  20      1999     11        female 1094           \n",
       "2 1584664    14  30      1999      5        male   1108           \n",
       "3 1302793    14   1      1999     10        male   1073           \n",
       "4 1395711    16   4      1997     12        male   1185           \n",
       "5 1926785    15  31      1998      5        female 1174           \n",
       "6 1346281    15   6      1998     10        male   1001           \n",
       "  initiated_to_follow heart heart_received mobile_app_heart\n",
       "1  720                0      0             0               \n",
       "2  752                0      2             0               \n",
       "3  599                0      0             0               \n",
       "4  886                0     18             0               \n",
       "5 1061                0      8             0               \n",
       "6  745                0      2             0               \n",
       "  mobile_app_heart_received web_heart web_heart_received\n",
       "1  0                        0         0                 \n",
       "2  2                        0         0                 \n",
       "3  0                        0         0                 \n",
       "4 11                        0         7                 \n",
       "5  6                        0         2                 \n",
       "6  1                        0         1                 "
      ]
     },
     "metadata": {},
     "output_type": "display_data"
    }
   ],
   "source": [
    "twitterdata_great_1000 <- twitterdata %>%\n",
    "    filter( followers_count > 1000 )\n",
    "head(twitterdata_great_1000)"
   ]
  },
  {
   "cell_type": "markdown",
   "metadata": {},
   "source": [
    "# Q4. List all the twitter MALE users whose \"followers_count\" is greater (>) than 100."
   ]
  },
  {
   "cell_type": "code",
   "execution_count": 29,
   "metadata": {},
   "outputs": [
    {
     "data": {
      "text/html": [
       "<table>\n",
       "<caption>A data.frame: 6 × 14</caption>\n",
       "<thead>\n",
       "\t<tr><th scope=col>twitter_id</th><th scope=col>age</th><th scope=col>dob_day</th><th scope=col>dob_year</th><th scope=col>dob_month</th><th scope=col>gender</th><th scope=col>followers_count</th><th scope=col>initiated_to_follow</th><th scope=col>heart</th><th scope=col>heart_received</th><th scope=col>mobile_app_heart</th><th scope=col>mobile_app_heart_received</th><th scope=col>web_heart</th><th scope=col>web_heart_received</th></tr>\n",
       "\t<tr><th scope=col>&lt;int&gt;</th><th scope=col>&lt;int&gt;</th><th scope=col>&lt;int&gt;</th><th scope=col>&lt;int&gt;</th><th scope=col>&lt;int&gt;</th><th scope=col>&lt;fct&gt;</th><th scope=col>&lt;int&gt;</th><th scope=col>&lt;int&gt;</th><th scope=col>&lt;int&gt;</th><th scope=col>&lt;int&gt;</th><th scope=col>&lt;int&gt;</th><th scope=col>&lt;int&gt;</th><th scope=col>&lt;int&gt;</th><th scope=col>&lt;int&gt;</th></tr>\n",
       "</thead>\n",
       "<tbody>\n",
       "\t<tr><td>1986751</td><td>14</td><td>23</td><td>1999</td><td>11</td><td>male</td><td>104</td><td>59</td><td>0</td><td>0</td><td>0</td><td>0</td><td>0</td><td>0</td></tr>\n",
       "\t<tr><td>1309735</td><td>15</td><td> 5</td><td>1998</td><td>11</td><td>male</td><td>104</td><td>44</td><td>0</td><td>0</td><td>0</td><td>0</td><td>0</td><td>0</td></tr>\n",
       "\t<tr><td>1729330</td><td>15</td><td>17</td><td>1998</td><td>12</td><td>male</td><td>102</td><td>99</td><td>0</td><td>0</td><td>0</td><td>0</td><td>0</td><td>0</td></tr>\n",
       "\t<tr><td>1364132</td><td>14</td><td>18</td><td>1999</td><td> 1</td><td>male</td><td>104</td><td>43</td><td>0</td><td>4</td><td>0</td><td>4</td><td>0</td><td>0</td></tr>\n",
       "\t<tr><td>1467199</td><td>14</td><td> 9</td><td>1999</td><td> 2</td><td>male</td><td>101</td><td>60</td><td>0</td><td>0</td><td>0</td><td>0</td><td>0</td><td>0</td></tr>\n",
       "\t<tr><td>1013081</td><td>15</td><td>14</td><td>1998</td><td> 4</td><td>male</td><td>103</td><td>87</td><td>0</td><td>1</td><td>0</td><td>1</td><td>0</td><td>0</td></tr>\n",
       "</tbody>\n",
       "</table>\n"
      ],
      "text/latex": [
       "A data.frame: 6 × 14\n",
       "\\begin{tabular}{r|llllllllllllll}\n",
       " twitter\\_id & age & dob\\_day & dob\\_year & dob\\_month & gender & followers\\_count & initiated\\_to\\_follow & heart & heart\\_received & mobile\\_app\\_heart & mobile\\_app\\_heart\\_received & web\\_heart & web\\_heart\\_received\\\\\n",
       " <int> & <int> & <int> & <int> & <int> & <fct> & <int> & <int> & <int> & <int> & <int> & <int> & <int> & <int>\\\\\n",
       "\\hline\n",
       "\t 1986751 & 14 & 23 & 1999 & 11 & male & 104 & 59 & 0 & 0 & 0 & 0 & 0 & 0\\\\\n",
       "\t 1309735 & 15 &  5 & 1998 & 11 & male & 104 & 44 & 0 & 0 & 0 & 0 & 0 & 0\\\\\n",
       "\t 1729330 & 15 & 17 & 1998 & 12 & male & 102 & 99 & 0 & 0 & 0 & 0 & 0 & 0\\\\\n",
       "\t 1364132 & 14 & 18 & 1999 &  1 & male & 104 & 43 & 0 & 4 & 0 & 4 & 0 & 0\\\\\n",
       "\t 1467199 & 14 &  9 & 1999 &  2 & male & 101 & 60 & 0 & 0 & 0 & 0 & 0 & 0\\\\\n",
       "\t 1013081 & 15 & 14 & 1998 &  4 & male & 103 & 87 & 0 & 1 & 0 & 1 & 0 & 0\\\\\n",
       "\\end{tabular}\n"
      ],
      "text/markdown": [
       "\n",
       "A data.frame: 6 × 14\n",
       "\n",
       "| twitter_id &lt;int&gt; | age &lt;int&gt; | dob_day &lt;int&gt; | dob_year &lt;int&gt; | dob_month &lt;int&gt; | gender &lt;fct&gt; | followers_count &lt;int&gt; | initiated_to_follow &lt;int&gt; | heart &lt;int&gt; | heart_received &lt;int&gt; | mobile_app_heart &lt;int&gt; | mobile_app_heart_received &lt;int&gt; | web_heart &lt;int&gt; | web_heart_received &lt;int&gt; |\n",
       "|---|---|---|---|---|---|---|---|---|---|---|---|---|---|\n",
       "| 1986751 | 14 | 23 | 1999 | 11 | male | 104 | 59 | 0 | 0 | 0 | 0 | 0 | 0 |\n",
       "| 1309735 | 15 |  5 | 1998 | 11 | male | 104 | 44 | 0 | 0 | 0 | 0 | 0 | 0 |\n",
       "| 1729330 | 15 | 17 | 1998 | 12 | male | 102 | 99 | 0 | 0 | 0 | 0 | 0 | 0 |\n",
       "| 1364132 | 14 | 18 | 1999 |  1 | male | 104 | 43 | 0 | 4 | 0 | 4 | 0 | 0 |\n",
       "| 1467199 | 14 |  9 | 1999 |  2 | male | 101 | 60 | 0 | 0 | 0 | 0 | 0 | 0 |\n",
       "| 1013081 | 15 | 14 | 1998 |  4 | male | 103 | 87 | 0 | 1 | 0 | 1 | 0 | 0 |\n",
       "\n"
      ],
      "text/plain": [
       "  twitter_id age dob_day dob_year dob_month gender followers_count\n",
       "1 1986751    14  23      1999     11        male   104            \n",
       "2 1309735    15   5      1998     11        male   104            \n",
       "3 1729330    15  17      1998     12        male   102            \n",
       "4 1364132    14  18      1999      1        male   104            \n",
       "5 1467199    14   9      1999      2        male   101            \n",
       "6 1013081    15  14      1998      4        male   103            \n",
       "  initiated_to_follow heart heart_received mobile_app_heart\n",
       "1 59                  0     0              0               \n",
       "2 44                  0     0              0               \n",
       "3 99                  0     0              0               \n",
       "4 43                  0     4              0               \n",
       "5 60                  0     0              0               \n",
       "6 87                  0     1              0               \n",
       "  mobile_app_heart_received web_heart web_heart_received\n",
       "1 0                         0         0                 \n",
       "2 0                         0         0                 \n",
       "3 0                         0         0                 \n",
       "4 4                         0         0                 \n",
       "5 0                         0         0                 \n",
       "6 1                         0         0                 "
      ]
     },
     "metadata": {},
     "output_type": "display_data"
    }
   ],
   "source": [
    "twitterdata_male_100 <- twitterdata %>%\n",
    "    filter( followers_count > 100 ) %>%\n",
    "    filter(gender == \"male\")\n",
    "\n",
    "head(twitterdata_male_100)"
   ]
  },
  {
   "cell_type": "markdown",
   "metadata": {},
   "source": [
    "# Q5. It is a saying,\n",
    "“​ Males always initiate to follow another Twitter account (female/male account) FIRST than\n",
    "Female ​ ”\n",
    "To prove the above statement, analyze the data and provide some evidence."
   ]
  },
  {
   "cell_type": "code",
   "execution_count": 17,
   "metadata": {},
   "outputs": [
    {
     "data": {
      "image/png": "[encoded data removed]",
      "text/plain": [
       "plot without title"
      ]
     },
     "metadata": {},
     "output_type": "display_data"
    }
   ],
   "source": [
    "boxplot(twitterdata$followers_count ~ twitterdata$gender, data = mtcars, xlab = \"gender\",ylab = \"followers_count\")"
   ]
  },
  {
   "cell_type": "markdown",
   "metadata": {},
   "source": [
    "According to the above boxplot we can see there are lot of outliers involve. Let's do a two sample t-test using two groups of data"
   ]
  },
  {
   "cell_type": "code",
   "execution_count": 19,
   "metadata": {},
   "outputs": [
    {
     "data": {
      "text/plain": [
       "\n",
       "\tWelch Two Sample t-test\n",
       "\n",
       "data:  male_numbers$followers_count and female_numbers$followers_count\n",
       "t = -28.565, df = 63218, p-value = 1\n",
       "alternative hypothesis: true difference in means is greater than 0\n",
       "95 percent confidence interval:\n",
       " -81.36469       Inf\n",
       "sample estimates:\n",
       "mean of x mean of y \n",
       " 165.0355  241.9699 \n"
      ]
     },
     "metadata": {},
     "output_type": "display_data"
    }
   ],
   "source": [
    "male_numbers <- twitterdata %>%\n",
    "    drop_na(gender)%>%\n",
    "    filter( gender == \"male\" ) \n",
    "female_numbers <- twitterdata %>%\n",
    "    drop_na(gender)%>%\n",
    "    filter( gender == \"female\" ) \n",
    "t.test(male_numbers$followers_count,female_numbers$followers_count,paired=FALSE , alternative=\"greater\")"
   ]
  },
  {
   "cell_type": "markdown",
   "metadata": {},
   "source": [
    "Our null hypothesis : mean (male) <= mean(female)\n",
    "    alternative hypothesis : mean (male) > mean(female)\n",
    "    \n",
    "according to the t-test result t-score = -28.565\n",
    "\n",
    "t-score lies within the confidence interval. So null hypothesis is rejected. So according to the alternative hypothesis above statement is false."
   ]
  },
  {
   "cell_type": "markdown",
   "metadata": {},
   "source": [
    "# Q6.Your manager has requested study the data and asked you to provide a graphical representation for the following use cases,"
   ]
  },
  {
   "cell_type": "markdown",
   "metadata": {},
   "source": [
    "1.HISTOGRAMS for day column in DOB (eg: dob_day)"
   ]
  },
  {
   "cell_type": "code",
   "execution_count": 59,
   "metadata": {
    "scrolled": false
   },
   "outputs": [
    {
     "data": {
      "image/png": "[encoded data removed]",
      "text/plain": [
       "plot without title"
      ]
     },
     "metadata": {},
     "output_type": "display_data"
    }
   ],
   "source": [
    "dob_day <- twitterdata$dob_day\n",
    "qplot(dob_day, geom=\"histogram\" , bins=31 , width= 1 ) "
   ]
  },
  {
   "cell_type": "markdown",
   "metadata": {},
   "source": [
    "2.FREQUENCY PLOT for the followers count"
   ]
  },
  {
   "cell_type": "code",
   "execution_count": 98,
   "metadata": {},
   "outputs": [
    {
     "data": {
      "image/png": "[encoded data removed]",
      "text/plain": [
       "plot without title"
      ]
     },
     "metadata": {},
     "output_type": "display_data"
    }
   ],
   "source": [
    "by_followers_count <- twitterdata %>%\n",
    "    count(followers_count)\n",
    "\n",
    "ggplot(by_followers_count, aes(x=followers_count,y=n  ))+\n",
    "geom_col()+\n",
    "coord_cartesian(xlim = c(0, 100), ylim = c(0, 2000))\n",
    "#expand_limits(y=c(0,2000) , x = c(0,2000))"
   ]
  },
  {
   "cell_type": "markdown",
   "metadata": {},
   "source": [
    "3.FREQUENCY PLOT for the age of the users over the years in the sample dataset"
   ]
  },
  {
   "cell_type": "code",
   "execution_count": 81,
   "metadata": {},
   "outputs": [
    {
     "data": {
      "image/png": "[encoded data removed]",
      "text/plain": [
       "plot without title"
      ]
     },
     "metadata": {},
     "output_type": "display_data"
    }
   ],
   "source": [
    "by_age <- twitterdata %>%\n",
    "    count(age)\n",
    "\n",
    "ggplot(by_age, aes(x=age,y=n, width= 0.5  ))+\n",
    "geom_col()+\n",
    "expand_limits(y=0)"
   ]
  },
  {
   "cell_type": "markdown",
   "metadata": {},
   "source": [
    "4.Plot BAR CHART to indicate and show the total hearts given by male, female users"
   ]
  },
  {
   "cell_type": "code",
   "execution_count": 49,
   "metadata": {},
   "outputs": [
    {
     "data": {
      "text/html": [
       "<table>\n",
       "<caption>A tibble: 2 × 2</caption>\n",
       "<thead>\n",
       "\t<tr><th scope=col>gender</th><th scope=col>heart_count</th></tr>\n",
       "\t<tr><th scope=col>&lt;fct&gt;</th><th scope=col>&lt;int&gt;</th></tr>\n",
       "</thead>\n",
       "<tbody>\n",
       "\t<tr><td>female</td><td>10468106</td></tr>\n",
       "\t<tr><td>male  </td><td> 4959923</td></tr>\n",
       "</tbody>\n",
       "</table>\n"
      ],
      "text/latex": [
       "A tibble: 2 × 2\n",
       "\\begin{tabular}{r|ll}\n",
       " gender & heart\\_count\\\\\n",
       " <fct> & <int>\\\\\n",
       "\\hline\n",
       "\t female & 10468106\\\\\n",
       "\t male   &  4959923\\\\\n",
       "\\end{tabular}\n"
      ],
      "text/markdown": [
       "\n",
       "A tibble: 2 × 2\n",
       "\n",
       "| gender &lt;fct&gt; | heart_count &lt;int&gt; |\n",
       "|---|---|\n",
       "| female | 10468106 |\n",
       "| male   |  4959923 |\n",
       "\n"
      ],
      "text/plain": [
       "  gender heart_count\n",
       "1 female 10468106   \n",
       "2 male    4959923   "
      ]
     },
     "metadata": {},
     "output_type": "display_data"
    }
   ],
   "source": [
    "by_gender <- twitterdata %>%\n",
    "    drop_na(gender)%>%\n",
    "    group_by( gender ) %>%\n",
    "    summarize(heart_count=sum(heart))\n",
    "\n",
    "by_gender"
   ]
  },
  {
   "cell_type": "code",
   "execution_count": 58,
   "metadata": {},
   "outputs": [
    {
     "data": {
      "image/png": "[encoded data removed]",
      "text/plain": [
       "plot without title"
      ]
     },
     "metadata": {},
     "output_type": "display_data"
    }
   ],
   "source": [
    "ggplot(by_gender, aes(x=gender,y=heart_count , width= 0.2 , height=0.1 ))+\n",
    "geom_col()+\n",
    "expand_limits(y=0)"
   ]
  },
  {
   "cell_type": "markdown",
   "metadata": {},
   "source": [
    "5.Analyze and visualize in CHART to confirm that people use a mobile/web interface to\n",
    "experience twitter"
   ]
  },
  {
   "cell_type": "code",
   "execution_count": 39,
   "metadata": {},
   "outputs": [
    {
     "data": {
      "text/html": [
       "<table>\n",
       "<caption>A data.frame: 1 × 1</caption>\n",
       "<thead>\n",
       "\t<tr><th scope=col>heart_mobile</th></tr>\n",
       "\t<tr><th scope=col>&lt;int&gt;</th></tr>\n",
       "</thead>\n",
       "<tbody>\n",
       "\t<tr><td>10505832</td></tr>\n",
       "</tbody>\n",
       "</table>\n"
      ],
      "text/latex": [
       "A data.frame: 1 × 1\n",
       "\\begin{tabular}{r|l}\n",
       " heart\\_mobile\\\\\n",
       " <int>\\\\\n",
       "\\hline\n",
       "\t 10505832\\\\\n",
       "\\end{tabular}\n"
      ],
      "text/markdown": [
       "\n",
       "A data.frame: 1 × 1\n",
       "\n",
       "| heart_mobile &lt;int&gt; |\n",
       "|---|\n",
       "| 10505832 |\n",
       "\n"
      ],
      "text/plain": [
       "  heart_mobile\n",
       "1 10505832    "
      ]
     },
     "metadata": {},
     "output_type": "display_data"
    }
   ],
   "source": [
    "heart_mobile <- twitterdata %>%\n",
    " summarize( heart_mobile = sum(mobile_app_heart))\n",
    "\n",
    "heart_mobile"
   ]
  },
  {
   "cell_type": "code",
   "execution_count": 40,
   "metadata": {},
   "outputs": [
    {
     "data": {
      "text/html": [
       "<table>\n",
       "<caption>A data.frame: 1 × 1</caption>\n",
       "<thead>\n",
       "\t<tr><th scope=col>heart_web</th></tr>\n",
       "\t<tr><th scope=col>&lt;int&gt;</th></tr>\n",
       "</thead>\n",
       "<tbody>\n",
       "\t<tr><td>4946430</td></tr>\n",
       "</tbody>\n",
       "</table>\n"
      ],
      "text/latex": [
       "A data.frame: 1 × 1\n",
       "\\begin{tabular}{r|l}\n",
       " heart\\_web\\\\\n",
       " <int>\\\\\n",
       "\\hline\n",
       "\t 4946430\\\\\n",
       "\\end{tabular}\n"
      ],
      "text/markdown": [
       "\n",
       "A data.frame: 1 × 1\n",
       "\n",
       "| heart_web &lt;int&gt; |\n",
       "|---|\n",
       "| 4946430 |\n",
       "\n"
      ],
      "text/plain": [
       "  heart_web\n",
       "1 4946430  "
      ]
     },
     "metadata": {},
     "output_type": "display_data"
    }
   ],
   "source": [
    "heart_web <- twitterdata %>%\n",
    " summarize( heart_web = sum(web_heart))\n",
    "\n",
    "heart_web"
   ]
  },
  {
   "cell_type": "code",
   "execution_count": 55,
   "metadata": {},
   "outputs": [
    {
     "data": {
      "image/png": "[encoded data removed]",
      "text/plain": [
       "plot without title"
      ]
     },
     "metadata": {},
     "output_type": "display_data"
    }
   ],
   "source": [
    "source_int <- data.frame( c(\"heart_web\" ,\"heart_mobile\" ) , c(heart_web[1,1] , heart_mobile[1,1]) )\n",
    "colnames(source_int) <- c(\"source\" , \"count\")\n",
    "\n",
    "ggplot(source_int, aes(x=source_int$source,y=source_int$count , width=0.1  ))+\n",
    "geom_col()+\n",
    "expand_limits(y=0)\n",
    "\n"
   ]
  },
  {
   "cell_type": "markdown",
   "metadata": {},
   "source": [
    "# Q7. Based on your critical analysis write down in points your thoughts and suggestions to improve the twitter features."
   ]
  },
  {
   "cell_type": "code",
   "execution_count": 36,
   "metadata": {},
   "outputs": [
    {
     "data": {
      "text/html": [
       "<table>\n",
       "<caption>A tibble: 6 × 2</caption>\n",
       "<thead>\n",
       "\t<tr><th scope=col>heart</th><th scope=col>n</th></tr>\n",
       "\t<tr><th scope=col>&lt;int&gt;</th><th scope=col>&lt;int&gt;</th></tr>\n",
       "</thead>\n",
       "<tbody>\n",
       "\t<tr><td>0</td><td>22308</td></tr>\n",
       "\t<tr><td>1</td><td> 6928</td></tr>\n",
       "\t<tr><td>2</td><td> 4434</td></tr>\n",
       "\t<tr><td>3</td><td> 3240</td></tr>\n",
       "\t<tr><td>4</td><td> 2507</td></tr>\n",
       "\t<tr><td>5</td><td> 2027</td></tr>\n",
       "</tbody>\n",
       "</table>\n"
      ],
      "text/latex": [
       "A tibble: 6 × 2\n",
       "\\begin{tabular}{r|ll}\n",
       " heart & n\\\\\n",
       " <int> & <int>\\\\\n",
       "\\hline\n",
       "\t 0 & 22308\\\\\n",
       "\t 1 &  6928\\\\\n",
       "\t 2 &  4434\\\\\n",
       "\t 3 &  3240\\\\\n",
       "\t 4 &  2507\\\\\n",
       "\t 5 &  2027\\\\\n",
       "\\end{tabular}\n"
      ],
      "text/markdown": [
       "\n",
       "A tibble: 6 × 2\n",
       "\n",
       "| heart &lt;int&gt; | n &lt;int&gt; |\n",
       "|---|---|\n",
       "| 0 | 22308 |\n",
       "| 1 |  6928 |\n",
       "| 2 |  4434 |\n",
       "| 3 |  3240 |\n",
       "| 4 |  2507 |\n",
       "| 5 |  2027 |\n",
       "\n"
      ],
      "text/plain": [
       "  heart n    \n",
       "1 0     22308\n",
       "2 1      6928\n",
       "3 2      4434\n",
       "4 3      3240\n",
       "5 4      2507\n",
       "6 5      2027"
      ]
     },
     "metadata": {},
     "output_type": "display_data"
    }
   ],
   "source": [
    "head(twitterdata %>%count(heart))"
   ]
  },
  {
   "cell_type": "markdown",
   "metadata": {},
   "source": [
    "According to the above summarization there are 22308 twitter ids with 0 heart reaction. So increacing the numbers of reaction type may increace the interaction"
   ]
  },
  {
   "cell_type": "markdown",
   "metadata": {},
   "source": [
    "According to the bar chart in Q6. 4. we can see that men interaction is less that female. So add features whose can attract men."
   ]
  },
  {
   "cell_type": "code",
   "execution_count": 37,
   "metadata": {},
   "outputs": [
    {
     "data": {
      "text/html": [
       "<table>\n",
       "<caption>A tibble: 6 × 2</caption>\n",
       "<thead>\n",
       "\t<tr><th scope=col>age</th><th scope=col>n</th></tr>\n",
       "\t<tr><th scope=col>&lt;int&gt;</th><th scope=col>&lt;int&gt;</th></tr>\n",
       "</thead>\n",
       "<tbody>\n",
       "\t<tr><td>13</td><td> 484</td></tr>\n",
       "\t<tr><td>14</td><td>1925</td></tr>\n",
       "\t<tr><td>15</td><td>2618</td></tr>\n",
       "\t<tr><td>16</td><td>3086</td></tr>\n",
       "\t<tr><td>17</td><td>3283</td></tr>\n",
       "\t<tr><td>18</td><td>5196</td></tr>\n",
       "</tbody>\n",
       "</table>\n"
      ],
      "text/latex": [
       "A tibble: 6 × 2\n",
       "\\begin{tabular}{r|ll}\n",
       " age & n\\\\\n",
       " <int> & <int>\\\\\n",
       "\\hline\n",
       "\t 13 &  484\\\\\n",
       "\t 14 & 1925\\\\\n",
       "\t 15 & 2618\\\\\n",
       "\t 16 & 3086\\\\\n",
       "\t 17 & 3283\\\\\n",
       "\t 18 & 5196\\\\\n",
       "\\end{tabular}\n"
      ],
      "text/markdown": [
       "\n",
       "A tibble: 6 × 2\n",
       "\n",
       "| age &lt;int&gt; | n &lt;int&gt; |\n",
       "|---|---|\n",
       "| 13 |  484 |\n",
       "| 14 | 1925 |\n",
       "| 15 | 2618 |\n",
       "| 16 | 3086 |\n",
       "| 17 | 3283 |\n",
       "| 18 | 5196 |\n",
       "\n"
      ],
      "text/plain": [
       "  age n   \n",
       "1 13   484\n",
       "2 14  1925\n",
       "3 15  2618\n",
       "4 16  3086\n",
       "5 17  3283\n",
       "6 18  5196"
      ]
     },
     "metadata": {},
     "output_type": "display_data"
    }
   ],
   "source": [
    "head(twitterdata %>%count(age))"
   ]
  },
  {
   "cell_type": "markdown",
   "metadata": {},
   "source": [
    "According to above summarization there are no user with age grater than 18. Introduce feature such that people with age grater than 18 attract to twitter"
   ]
  },
  {
   "cell_type": "markdown",
   "metadata": {},
   "source": [
    "When we go through the dataframe we can't see location information. if there are location information, can suggest news based on locations."
   ]
  },
  {
   "cell_type": "code",
   "execution_count": null,
   "metadata": {},
   "outputs": [],
   "source": []
  }
 ],
 "metadata": {
  "kernelspec": {
   "display_name": "R",
   "language": "R",
   "name": "ir"
  },
  "language_info": {
   "codemirror_mode": "r",
   "file_extension": ".r",
   "mimetype": "text/x-r-source",
   "name": "R",
   "pygments_lexer": "r",
   "version": "3.2.3"
  }
 },
 "nbformat": 4,
 "nbformat_minor": 2
}
